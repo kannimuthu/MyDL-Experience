{
 "cells": [
  {
   "cell_type": "code",
   "execution_count": 26,
   "metadata": {},
   "outputs": [],
   "source": [
    "import pandas as pd\n",
    "import numpy as np\n",
    "df = pd.read_csv('C://Users//ROHINI//Desktop//SKCET//MLP_KERAS//insurance_claims.csv')"
   ]
  },
  {
   "cell_type": "code",
   "execution_count": 27,
   "metadata": {},
   "outputs": [],
   "source": [
    "feats = ['policy_state','insured_sex','insured_education_level','insured_occupation','insured_hobbies','insured_relationship','collision_type','incident_severity','authorities_contacted','incident_state','incident_city','incident_location','property_damage','police_report_available','auto_make','auto_model','fraud_reported','incident_type']\n",
    "df_final = pd.get_dummies(df,columns=feats,drop_first=True)"
   ]
  },
  {
   "cell_type": "code",
   "execution_count": 28,
   "metadata": {},
   "outputs": [],
   "source": [
    "from sklearn.model_selection import train_test_split"
   ]
  },
  {
   "cell_type": "code",
   "execution_count": 29,
   "metadata": {},
   "outputs": [],
   "source": [
    "X = df_final.drop(['fraud_reported_Y','policy_csl','policy_bind_date','incident_date'],axis=1).values\n",
    "y = df_final['fraud_reported_Y'].values"
   ]
  },
  {
   "cell_type": "code",
   "execution_count": 30,
   "metadata": {},
   "outputs": [],
   "source": [
    "X_train, X_test, y_train, y_test = train_test_split(X, y, test_size=0.3)"
   ]
  },
  {
   "cell_type": "code",
   "execution_count": 31,
   "metadata": {},
   "outputs": [],
   "source": [
    "from sklearn.preprocessing import StandardScaler\n",
    "sc = StandardScaler()\n",
    "X_train = sc.fit_transform(X_train)\n",
    "X_test = sc.transform(X_test)"
   ]
  },
  {
   "cell_type": "code",
   "execution_count": 32,
   "metadata": {},
   "outputs": [],
   "source": [
    "import keras"
   ]
  },
  {
   "cell_type": "code",
   "execution_count": 33,
   "metadata": {},
   "outputs": [],
   "source": [
    "from keras.models import Sequential\n",
    "from keras.layers import Dense\n",
    "classifier = Sequential()"
   ]
  },
  {
   "cell_type": "code",
   "execution_count": 34,
   "metadata": {},
   "outputs": [],
   "source": [
    "classifier.add(Dense(3, kernel_initializer = 'uniform',activation = 'relu', input_dim=1143))"
   ]
  },
  {
   "cell_type": "code",
   "execution_count": 35,
   "metadata": {},
   "outputs": [],
   "source": [
    "classifier.add(Dense(3, kernel_initializer = 'uniform',activation = 'relu'))"
   ]
  },
  {
   "cell_type": "code",
   "execution_count": 36,
   "metadata": {},
   "outputs": [],
   "source": [
    "classifier.add(Dense(1, kernel_initializer = 'uniform',activation = 'sigmoid'))"
   ]
  },
  {
   "cell_type": "code",
   "execution_count": 37,
   "metadata": {},
   "outputs": [],
   "source": [
    "classifier.compile(optimizer= 'adam',loss = 'binary_crossentropy',metrics = ['accuracy'])"
   ]
  },
  {
   "cell_type": "code",
   "execution_count": 38,
   "metadata": {},
   "outputs": [
    {
     "name": "stderr",
     "output_type": "stream",
     "text": [
      "W1102 13:59:32.058278 20268 deprecation_wrapper.py:119] From C:\\Users\\ROHINI\\Anaconda3\\lib\\site-packages\\keras\\backend\\tensorflow_backend.py:986: The name tf.assign_add is deprecated. Please use tf.compat.v1.assign_add instead.\n",
      "\n"
     ]
    },
    {
     "name": "stdout",
     "output_type": "stream",
     "text": [
      "Epoch 1/100\n",
      "700/700 [==============================] - 2s 3ms/step - loss: 0.6841 - acc: 0.7414\n",
      "Epoch 2/100\n",
      "700/700 [==============================] - 0s 285us/step - loss: 0.6473 - acc: 0.7500 0s - loss: 0.6677 - acc: 0.7\n",
      "Epoch 3/100\n",
      "700/700 [==============================] - 0s 284us/step - loss: 0.5607 - acc: 0.7500\n",
      "Epoch 4/100\n",
      "700/700 [==============================] - 0s 276us/step - loss: 0.4848 - acc: 0.7500\n",
      "Epoch 5/100\n",
      "700/700 [==============================] - 0s 259us/step - loss: 0.4262 - acc: 0.7500\n",
      "Epoch 6/100\n",
      "700/700 [==============================] - 0s 248us/step - loss: 0.3822 - acc: 0.7500\n",
      "Epoch 7/100\n",
      "700/700 [==============================] - 0s 256us/step - loss: 0.3484 - acc: 0.7500\n",
      "Epoch 8/100\n",
      "700/700 [==============================] - 0s 223us/step - loss: 0.3229 - acc: 0.7500\n",
      "Epoch 9/100\n",
      "700/700 [==============================] - 0s 188us/step - loss: 0.3027 - acc: 0.7500\n",
      "Epoch 10/100\n",
      "700/700 [==============================] - 0s 211us/step - loss: 0.2870 - acc: 0.7500\n",
      "Epoch 11/100\n",
      "700/700 [==============================] - 0s 168us/step - loss: 0.2756 - acc: 0.7500\n",
      "Epoch 12/100\n",
      "700/700 [==============================] - 0s 168us/step - loss: 0.2683 - acc: 0.7643\n",
      "Epoch 13/100\n",
      "700/700 [==============================] - 0s 172us/step - loss: 0.2630 - acc: 0.8686\n",
      "Epoch 14/100\n",
      "700/700 [==============================] - 0s 387us/step - loss: 0.2587 - acc: 0.8771\n",
      "Epoch 15/100\n",
      "700/700 [==============================] - 0s 218us/step - loss: 0.2551 - acc: 0.8814\n",
      "Epoch 16/100\n",
      "700/700 [==============================] - 0s 160us/step - loss: 0.2523 - acc: 0.8829\n",
      "Epoch 17/100\n",
      "700/700 [==============================] - 0s 178us/step - loss: 0.2500 - acc: 0.8829\n",
      "Epoch 18/100\n",
      "700/700 [==============================] - 0s 193us/step - loss: 0.2480 - acc: 0.8829\n",
      "Epoch 19/100\n",
      "700/700 [==============================] - 0s 175us/step - loss: 0.2461 - acc: 0.8829\n",
      "Epoch 20/100\n",
      "700/700 [==============================] - 0s 179us/step - loss: 0.2445 - acc: 0.8829\n",
      "Epoch 21/100\n",
      "700/700 [==============================] - 0s 176us/step - loss: 0.2430 - acc: 0.8829\n",
      "Epoch 22/100\n",
      "700/700 [==============================] - 0s 185us/step - loss: 0.2417 - acc: 0.8829\n",
      "Epoch 23/100\n",
      "700/700 [==============================] - 0s 179us/step - loss: 0.2406 - acc: 0.8829\n",
      "Epoch 24/100\n",
      "700/700 [==============================] - 0s 192us/step - loss: 0.2396 - acc: 0.8829\n",
      "Epoch 25/100\n",
      "700/700 [==============================] - 0s 179us/step - loss: 0.2386 - acc: 0.8829\n",
      "Epoch 26/100\n",
      "700/700 [==============================] - 0s 176us/step - loss: 0.2378 - acc: 0.8829\n",
      "Epoch 27/100\n",
      "700/700 [==============================] - 0s 206us/step - loss: 0.2369 - acc: 0.8829\n",
      "Epoch 28/100\n",
      "700/700 [==============================] - 0s 175us/step - loss: 0.2362 - acc: 0.8829\n",
      "Epoch 29/100\n",
      "700/700 [==============================] - 0s 169us/step - loss: 0.2356 - acc: 0.8829\n",
      "Epoch 30/100\n",
      "700/700 [==============================] - 0s 208us/step - loss: 0.2351 - acc: 0.8829\n",
      "Epoch 31/100\n",
      "700/700 [==============================] - 0s 191us/step - loss: 0.2345 - acc: 0.8829\n",
      "Epoch 32/100\n",
      "700/700 [==============================] - 0s 203us/step - loss: 0.2340 - acc: 0.8829\n",
      "Epoch 33/100\n",
      "700/700 [==============================] - 0s 226us/step - loss: 0.2336 - acc: 0.8829\n",
      "Epoch 34/100\n",
      "700/700 [==============================] - 0s 186us/step - loss: 0.2332 - acc: 0.8829\n",
      "Epoch 35/100\n",
      "700/700 [==============================] - 0s 182us/step - loss: 0.2329 - acc: 0.8829\n",
      "Epoch 36/100\n",
      "700/700 [==============================] - 0s 189us/step - loss: 0.2326 - acc: 0.8829\n",
      "Epoch 37/100\n",
      "700/700 [==============================] - 0s 202us/step - loss: 0.2323 - acc: 0.8829\n",
      "Epoch 38/100\n",
      "700/700 [==============================] - 0s 172us/step - loss: 0.2321 - acc: 0.8829\n",
      "Epoch 39/100\n",
      "700/700 [==============================] - 0s 173us/step - loss: 0.2308 - acc: 0.8843\n",
      "Epoch 40/100\n",
      "700/700 [==============================] - 0s 178us/step - loss: 0.2303 - acc: 0.8843\n",
      "Epoch 41/100\n",
      "700/700 [==============================] - 0s 129us/step - loss: 0.2301 - acc: 0.8843\n",
      "Epoch 42/100\n",
      "700/700 [==============================] - 0s 126us/step - loss: 0.2300 - acc: 0.8843\n",
      "Epoch 43/100\n",
      "700/700 [==============================] - 0s 127us/step - loss: 0.2298 - acc: 0.8843\n",
      "Epoch 44/100\n",
      "700/700 [==============================] - 0s 130us/step - loss: 0.2282 - acc: 0.8857\n",
      "Epoch 45/100\n",
      "700/700 [==============================] - 0s 130us/step - loss: 0.2271 - acc: 0.8871\n",
      "Epoch 46/100\n",
      "700/700 [==============================] - 0s 168us/step - loss: 0.2264 - acc: 0.8871\n",
      "Epoch 47/100\n",
      "700/700 [==============================] - 0s 219us/step - loss: 0.2262 - acc: 0.8871\n",
      "Epoch 48/100\n",
      "700/700 [==============================] - 0s 163us/step - loss: 0.2261 - acc: 0.8871\n",
      "Epoch 49/100\n",
      "700/700 [==============================] - 0s 193us/step - loss: 0.2259 - acc: 0.8871\n",
      "Epoch 50/100\n",
      "700/700 [==============================] - 0s 165us/step - loss: 0.2258 - acc: 0.8871\n",
      "Epoch 51/100\n",
      "700/700 [==============================] - 0s 183us/step - loss: 0.2257 - acc: 0.8871\n",
      "Epoch 52/100\n",
      "700/700 [==============================] - 0s 228us/step - loss: 0.2257 - acc: 0.8871\n",
      "Epoch 53/100\n",
      "700/700 [==============================] - 0s 196us/step - loss: 0.2256 - acc: 0.8871\n",
      "Epoch 54/100\n",
      "700/700 [==============================] - 0s 189us/step - loss: 0.2255 - acc: 0.8871\n",
      "Epoch 55/100\n",
      "700/700 [==============================] - 0s 175us/step - loss: 0.2255 - acc: 0.8871\n",
      "Epoch 56/100\n",
      "700/700 [==============================] - 0s 178us/step - loss: 0.2254 - acc: 0.8871\n",
      "Epoch 57/100\n",
      "700/700 [==============================] - 0s 169us/step - loss: 0.2254 - acc: 0.8871\n",
      "Epoch 58/100\n",
      "700/700 [==============================] - 0s 183us/step - loss: 0.2253 - acc: 0.8871\n",
      "Epoch 59/100\n",
      "700/700 [==============================] - 0s 199us/step - loss: 0.2253 - acc: 0.8871\n",
      "Epoch 60/100\n",
      "700/700 [==============================] - 0s 163us/step - loss: 0.2253 - acc: 0.8871\n",
      "Epoch 61/100\n",
      "700/700 [==============================] - 0s 178us/step - loss: 0.2253 - acc: 0.8871\n",
      "Epoch 62/100\n",
      "700/700 [==============================] - 0s 185us/step - loss: 0.2252 - acc: 0.8871\n",
      "Epoch 63/100\n",
      "700/700 [==============================] - 0s 172us/step - loss: 0.2252 - acc: 0.8871\n",
      "Epoch 64/100\n",
      "700/700 [==============================] - 0s 178us/step - loss: 0.2252 - acc: 0.8871\n",
      "Epoch 65/100\n",
      "700/700 [==============================] - 0s 172us/step - loss: 0.2252 - acc: 0.8871\n",
      "Epoch 66/100\n",
      "700/700 [==============================] - 0s 193us/step - loss: 0.2251 - acc: 0.8871\n",
      "Epoch 67/100\n",
      "700/700 [==============================] - 0s 179us/step - loss: 0.2251 - acc: 0.8871\n",
      "Epoch 68/100\n",
      "700/700 [==============================] - 0s 172us/step - loss: 0.2251 - acc: 0.8871\n",
      "Epoch 69/100\n",
      "700/700 [==============================] - 0s 206us/step - loss: 0.2251 - acc: 0.8871\n",
      "Epoch 70/100\n",
      "700/700 [==============================] - 0s 170us/step - loss: 0.2251 - acc: 0.8871\n",
      "Epoch 71/100\n",
      "700/700 [==============================] - 0s 196us/step - loss: 0.2251 - acc: 0.8871\n",
      "Epoch 72/100\n",
      "700/700 [==============================] - 0s 180us/step - loss: 0.2251 - acc: 0.8871\n",
      "Epoch 73/100\n",
      "700/700 [==============================] - 0s 205us/step - loss: 0.2251 - acc: 0.8871\n",
      "Epoch 74/100\n",
      "700/700 [==============================] - 0s 169us/step - loss: 0.2250 - acc: 0.8871\n",
      "Epoch 75/100\n",
      "700/700 [==============================] - 0s 208us/step - loss: 0.2250 - acc: 0.8871\n",
      "Epoch 76/100\n",
      "700/700 [==============================] - 0s 165us/step - loss: 0.2251 - acc: 0.8871\n",
      "Epoch 77/100\n",
      "700/700 [==============================] - 0s 189us/step - loss: 0.2250 - acc: 0.8871\n",
      "Epoch 78/100\n",
      "700/700 [==============================] - 0s 170us/step - loss: 0.2251 - acc: 0.8871\n",
      "Epoch 79/100\n",
      "700/700 [==============================] - 0s 202us/step - loss: 0.2250 - acc: 0.8871\n",
      "Epoch 80/100\n",
      "700/700 [==============================] - 0s 188us/step - loss: 0.2250 - acc: 0.8871\n",
      "Epoch 81/100\n",
      "700/700 [==============================] - 0s 179us/step - loss: 0.2250 - acc: 0.8871\n",
      "Epoch 82/100\n",
      "700/700 [==============================] - 0s 195us/step - loss: 0.2250 - acc: 0.8871\n",
      "Epoch 83/100\n",
      "700/700 [==============================] - 0s 201us/step - loss: 0.2250 - acc: 0.8871\n",
      "Epoch 84/100\n",
      "700/700 [==============================] - 0s 203us/step - loss: 0.2250 - acc: 0.8871\n",
      "Epoch 85/100\n",
      "700/700 [==============================] - 0s 216us/step - loss: 0.2250 - acc: 0.8871\n",
      "Epoch 86/100\n",
      "700/700 [==============================] - 0s 175us/step - loss: 0.2250 - acc: 0.8871\n",
      "Epoch 87/100\n",
      "700/700 [==============================] - 0s 252us/step - loss: 0.2250 - acc: 0.8871\n",
      "Epoch 88/100\n",
      "700/700 [==============================] - 0s 205us/step - loss: 0.2250 - acc: 0.8871\n",
      "Epoch 89/100\n",
      "700/700 [==============================] - 0s 182us/step - loss: 0.2250 - acc: 0.8871\n",
      "Epoch 90/100\n",
      "700/700 [==============================] - 0s 186us/step - loss: 0.2250 - acc: 0.8871\n",
      "Epoch 91/100\n",
      "700/700 [==============================] - 0s 180us/step - loss: 0.2250 - acc: 0.8871\n",
      "Epoch 92/100\n",
      "700/700 [==============================] - 0s 190us/step - loss: 0.2250 - acc: 0.8871\n",
      "Epoch 93/100\n",
      "700/700 [==============================] - 0s 176us/step - loss: 0.2250 - acc: 0.8871\n",
      "Epoch 94/100\n",
      "700/700 [==============================] - 0s 186us/step - loss: 0.2250 - acc: 0.8871\n",
      "Epoch 95/100\n",
      "700/700 [==============================] - 0s 255us/step - loss: 0.2250 - acc: 0.8871\n",
      "Epoch 96/100\n",
      "700/700 [==============================] - 0s 235us/step - loss: 0.2250 - acc: 0.8871\n",
      "Epoch 97/100\n",
      "700/700 [==============================] - 0s 236us/step - loss: 0.2250 - acc: 0.8871\n",
      "Epoch 98/100\n",
      "700/700 [==============================] - 0s 212us/step - loss: 0.2250 - acc: 0.8871\n",
      "Epoch 99/100\n",
      "700/700 [==============================] - 0s 202us/step - loss: 0.2250 - acc: 0.8871\n",
      "Epoch 100/100\n",
      "700/700 [==============================] - 0s 186us/step - loss: 0.2250 - acc: 0.8871\n"
     ]
    },
    {
     "data": {
      "text/plain": [
       "<keras.callbacks.History at 0x134e4b5b668>"
      ]
     },
     "execution_count": 38,
     "metadata": {},
     "output_type": "execute_result"
    }
   ],
   "source": [
    "classifier.fit(X_train, y_train, batch_size = 10, epochs = 100)"
   ]
  },
  {
   "cell_type": "code",
   "execution_count": 39,
   "metadata": {},
   "outputs": [],
   "source": [
    "y_pred = classifier.predict(X_test)"
   ]
  },
  {
   "cell_type": "code",
   "execution_count": 40,
   "metadata": {},
   "outputs": [],
   "source": [
    "y_pred = (y_pred > 0.5)"
   ]
  },
  {
   "cell_type": "code",
   "execution_count": 41,
   "metadata": {},
   "outputs": [],
   "source": [
    "from sklearn.metrics import confusion_matrix\n",
    "cm = confusion_matrix(y_test, y_pred)"
   ]
  },
  {
   "cell_type": "code",
   "execution_count": 42,
   "metadata": {},
   "outputs": [
    {
     "name": "stdout",
     "output_type": "stream",
     "text": [
      "[[226   2]\n",
      " [ 70   2]]\n"
     ]
    }
   ],
   "source": [
    "print(cm)"
   ]
  }
 ],
 "metadata": {
  "kernelspec": {
   "display_name": "Python 3",
   "language": "python",
   "name": "python3"
  },
  "language_info": {
   "codemirror_mode": {
    "name": "ipython",
    "version": 3
   },
   "file_extension": ".py",
   "mimetype": "text/x-python",
   "name": "python",
   "nbconvert_exporter": "python",
   "pygments_lexer": "ipython3",
   "version": "3.7.3"
  }
 },
 "nbformat": 4,
 "nbformat_minor": 2
}
